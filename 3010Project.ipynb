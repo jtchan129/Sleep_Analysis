{
 "cells": [
  {
   "cell_type": "code",
   "execution_count": 2,
   "metadata": {},
   "outputs": [
    {
     "name": "stdout",
     "output_type": "stream",
     "text": [
      "Requirement already satisfied: pandas in c:\\users\\esojk\\appdata\\local\\packages\\pythonsoftwarefoundation.python.3.10_qbz5n2kfra8p0\\localcache\\local-packages\\python310\\site-packages (1.5.3)\n",
      "Requirement already satisfied: pytz>=2020.1 in c:\\users\\esojk\\appdata\\local\\packages\\pythonsoftwarefoundation.python.3.10_qbz5n2kfra8p0\\localcache\\local-packages\\python310\\site-packages (from pandas) (2022.7.1)\n",
      "Requirement already satisfied: numpy>=1.21.0 in c:\\users\\esojk\\appdata\\local\\packages\\pythonsoftwarefoundation.python.3.10_qbz5n2kfra8p0\\localcache\\local-packages\\python310\\site-packages (from pandas) (1.23.4)\n",
      "Requirement already satisfied: python-dateutil>=2.8.1 in c:\\users\\esojk\\appdata\\local\\packages\\pythonsoftwarefoundation.python.3.10_qbz5n2kfra8p0\\localcache\\local-packages\\python310\\site-packages (from pandas) (2.8.2)\n",
      "Requirement already satisfied: six>=1.5 in c:\\users\\esojk\\appdata\\local\\packages\\pythonsoftwarefoundation.python.3.10_qbz5n2kfra8p0\\localcache\\local-packages\\python310\\site-packages (from python-dateutil>=2.8.1->pandas) (1.16.0)\n",
      "Note: you may need to restart the kernel to use updated packages.\n"
     ]
    }
   ],
   "source": [
    "pip install pandas"
   ]
  },
  {
   "cell_type": "code",
   "execution_count": 3,
   "metadata": {},
   "outputs": [],
   "source": [
    "import numpy as np\n",
    "import pandas as pd\n",
    "import pickle"
   ]
  },
  {
   "cell_type": "code",
   "execution_count": 4,
   "metadata": {},
   "outputs": [
    {
     "data": {
      "text/html": [
       "<div>\n",
       "<style scoped>\n",
       "    .dataframe tbody tr th:only-of-type {\n",
       "        vertical-align: middle;\n",
       "    }\n",
       "\n",
       "    .dataframe tbody tr th {\n",
       "        vertical-align: top;\n",
       "    }\n",
       "\n",
       "    .dataframe thead th {\n",
       "        text-align: right;\n",
       "    }\n",
       "</style>\n",
       "<table border=\"1\" class=\"dataframe\">\n",
       "  <thead>\n",
       "    <tr style=\"text-align: right;\">\n",
       "      <th></th>\n",
       "      <th>ID</th>\n",
       "      <th>Age</th>\n",
       "      <th>Gender</th>\n",
       "      <th>Bedtime</th>\n",
       "      <th>Wakeup time</th>\n",
       "      <th>Sleep duration</th>\n",
       "      <th>Sleep efficiency</th>\n",
       "      <th>REM sleep percentage</th>\n",
       "      <th>Deep sleep percentage</th>\n",
       "      <th>Light sleep percentage</th>\n",
       "      <th>Awakenings</th>\n",
       "      <th>Caffeine consumption</th>\n",
       "      <th>Alcohol consumption</th>\n",
       "      <th>Smoking status</th>\n",
       "      <th>Exercise frequency</th>\n",
       "    </tr>\n",
       "  </thead>\n",
       "  <tbody>\n",
       "    <tr>\n",
       "      <th>0</th>\n",
       "      <td>1</td>\n",
       "      <td>65</td>\n",
       "      <td>Female</td>\n",
       "      <td>2021-03-06 01:00:00</td>\n",
       "      <td>2021-03-06 07:00:00</td>\n",
       "      <td>6.0</td>\n",
       "      <td>0.88</td>\n",
       "      <td>18</td>\n",
       "      <td>70</td>\n",
       "      <td>10</td>\n",
       "      <td>0.0</td>\n",
       "      <td>0.0</td>\n",
       "      <td>0.0</td>\n",
       "      <td>Yes</td>\n",
       "      <td>3.0</td>\n",
       "    </tr>\n",
       "    <tr>\n",
       "      <th>1</th>\n",
       "      <td>2</td>\n",
       "      <td>69</td>\n",
       "      <td>Male</td>\n",
       "      <td>2021-12-05 02:00:00</td>\n",
       "      <td>2021-12-05 09:00:00</td>\n",
       "      <td>7.0</td>\n",
       "      <td>0.66</td>\n",
       "      <td>24</td>\n",
       "      <td>28</td>\n",
       "      <td>53</td>\n",
       "      <td>3.0</td>\n",
       "      <td>0.0</td>\n",
       "      <td>3.0</td>\n",
       "      <td>Yes</td>\n",
       "      <td>3.0</td>\n",
       "    </tr>\n",
       "    <tr>\n",
       "      <th>2</th>\n",
       "      <td>3</td>\n",
       "      <td>40</td>\n",
       "      <td>Female</td>\n",
       "      <td>2021-05-25 21:30:00</td>\n",
       "      <td>2021-05-25 05:30:00</td>\n",
       "      <td>8.0</td>\n",
       "      <td>0.89</td>\n",
       "      <td>20</td>\n",
       "      <td>70</td>\n",
       "      <td>10</td>\n",
       "      <td>1.0</td>\n",
       "      <td>0.0</td>\n",
       "      <td>0.0</td>\n",
       "      <td>No</td>\n",
       "      <td>3.0</td>\n",
       "    </tr>\n",
       "    <tr>\n",
       "      <th>3</th>\n",
       "      <td>4</td>\n",
       "      <td>40</td>\n",
       "      <td>Female</td>\n",
       "      <td>2021-11-03 02:30:00</td>\n",
       "      <td>2021-11-03 08:30:00</td>\n",
       "      <td>6.0</td>\n",
       "      <td>0.51</td>\n",
       "      <td>28</td>\n",
       "      <td>25</td>\n",
       "      <td>52</td>\n",
       "      <td>3.0</td>\n",
       "      <td>50.0</td>\n",
       "      <td>5.0</td>\n",
       "      <td>Yes</td>\n",
       "      <td>1.0</td>\n",
       "    </tr>\n",
       "    <tr>\n",
       "      <th>4</th>\n",
       "      <td>5</td>\n",
       "      <td>57</td>\n",
       "      <td>Male</td>\n",
       "      <td>2021-03-13 01:00:00</td>\n",
       "      <td>2021-03-13 09:00:00</td>\n",
       "      <td>8.0</td>\n",
       "      <td>0.76</td>\n",
       "      <td>27</td>\n",
       "      <td>55</td>\n",
       "      <td>18</td>\n",
       "      <td>3.0</td>\n",
       "      <td>0.0</td>\n",
       "      <td>3.0</td>\n",
       "      <td>No</td>\n",
       "      <td>3.0</td>\n",
       "    </tr>\n",
       "  </tbody>\n",
       "</table>\n",
       "</div>"
      ],
      "text/plain": [
       "   ID  Age  Gender              Bedtime          Wakeup time  Sleep duration  \\\n",
       "0   1   65  Female  2021-03-06 01:00:00  2021-03-06 07:00:00             6.0   \n",
       "1   2   69    Male  2021-12-05 02:00:00  2021-12-05 09:00:00             7.0   \n",
       "2   3   40  Female  2021-05-25 21:30:00  2021-05-25 05:30:00             8.0   \n",
       "3   4   40  Female  2021-11-03 02:30:00  2021-11-03 08:30:00             6.0   \n",
       "4   5   57    Male  2021-03-13 01:00:00  2021-03-13 09:00:00             8.0   \n",
       "\n",
       "   Sleep efficiency  REM sleep percentage  Deep sleep percentage  \\\n",
       "0              0.88                    18                     70   \n",
       "1              0.66                    24                     28   \n",
       "2              0.89                    20                     70   \n",
       "3              0.51                    28                     25   \n",
       "4              0.76                    27                     55   \n",
       "\n",
       "   Light sleep percentage  Awakenings  Caffeine consumption  \\\n",
       "0                      10         0.0                   0.0   \n",
       "1                      53         3.0                   0.0   \n",
       "2                      10         1.0                   0.0   \n",
       "3                      52         3.0                  50.0   \n",
       "4                      18         3.0                   0.0   \n",
       "\n",
       "   Alcohol consumption Smoking status  Exercise frequency  \n",
       "0                  0.0            Yes                 3.0  \n",
       "1                  3.0            Yes                 3.0  \n",
       "2                  0.0             No                 3.0  \n",
       "3                  5.0            Yes                 1.0  \n",
       "4                  3.0             No                 3.0  "
      ]
     },
     "execution_count": 4,
     "metadata": {},
     "output_type": "execute_result"
    }
   ],
   "source": [
    "Sleep = pd.read_csv('Sleep_Efficiency.csv')\n",
    "Sleep.head()"
   ]
  },
  {
   "cell_type": "code",
   "execution_count": 5,
   "metadata": {},
   "outputs": [
    {
     "name": "stdout",
     "output_type": "stream",
     "text": [
      "<class 'pandas.core.frame.DataFrame'>\n",
      "RangeIndex: 452 entries, 0 to 451\n",
      "Data columns (total 15 columns):\n",
      " #   Column                  Non-Null Count  Dtype  \n",
      "---  ------                  --------------  -----  \n",
      " 0   ID                      452 non-null    int64  \n",
      " 1   Age                     452 non-null    int64  \n",
      " 2   Gender                  452 non-null    object \n",
      " 3   Bedtime                 452 non-null    object \n",
      " 4   Wakeup time             452 non-null    object \n",
      " 5   Sleep duration          452 non-null    float64\n",
      " 6   Sleep efficiency        452 non-null    float64\n",
      " 7   REM sleep percentage    452 non-null    int64  \n",
      " 8   Deep sleep percentage   452 non-null    int64  \n",
      " 9   Light sleep percentage  452 non-null    int64  \n",
      " 10  Awakenings              432 non-null    float64\n",
      " 11  Caffeine consumption    427 non-null    float64\n",
      " 12  Alcohol consumption     436 non-null    float64\n",
      " 13  Smoking status          452 non-null    object \n",
      " 14  Exercise frequency      446 non-null    float64\n",
      "dtypes: float64(6), int64(5), object(4)\n",
      "memory usage: 53.1+ KB\n"
     ]
    }
   ],
   "source": [
    "Sleep.info()"
   ]
  },
  {
   "cell_type": "code",
   "execution_count": 6,
   "metadata": {},
   "outputs": [],
   "source": [
    "df = pd.DataFrame(Sleep)\n",
    "\n",
    "NewSleep = Sleep.dropna(axis = 0, how ='any')"
   ]
  },
  {
   "cell_type": "code",
   "execution_count": 7,
   "metadata": {},
   "outputs": [
    {
     "name": "stdout",
     "output_type": "stream",
     "text": [
      "<class 'pandas.core.frame.DataFrame'>\n",
      "Int64Index: 386 entries, 0 to 451\n",
      "Data columns (total 15 columns):\n",
      " #   Column                  Non-Null Count  Dtype  \n",
      "---  ------                  --------------  -----  \n",
      " 0   ID                      386 non-null    int64  \n",
      " 1   Age                     386 non-null    int64  \n",
      " 2   Gender                  386 non-null    object \n",
      " 3   Bedtime                 386 non-null    object \n",
      " 4   Wakeup time             386 non-null    object \n",
      " 5   Sleep duration          386 non-null    float64\n",
      " 6   Sleep efficiency        386 non-null    float64\n",
      " 7   REM sleep percentage    386 non-null    int64  \n",
      " 8   Deep sleep percentage   386 non-null    int64  \n",
      " 9   Light sleep percentage  386 non-null    int64  \n",
      " 10  Awakenings              386 non-null    float64\n",
      " 11  Caffeine consumption    386 non-null    float64\n",
      " 12  Alcohol consumption     386 non-null    float64\n",
      " 13  Smoking status          386 non-null    object \n",
      " 14  Exercise frequency      386 non-null    float64\n",
      "dtypes: float64(6), int64(5), object(4)\n",
      "memory usage: 48.2+ KB\n"
     ]
    }
   ],
   "source": [
    "NewSleep.info()"
   ]
  },
  {
   "cell_type": "code",
   "execution_count": 8,
   "metadata": {},
   "outputs": [
    {
     "data": {
      "text/html": [
       "<div>\n",
       "<style scoped>\n",
       "    .dataframe tbody tr th:only-of-type {\n",
       "        vertical-align: middle;\n",
       "    }\n",
       "\n",
       "    .dataframe tbody tr th {\n",
       "        vertical-align: top;\n",
       "    }\n",
       "\n",
       "    .dataframe thead th {\n",
       "        text-align: right;\n",
       "    }\n",
       "</style>\n",
       "<table border=\"1\" class=\"dataframe\">\n",
       "  <thead>\n",
       "    <tr style=\"text-align: right;\">\n",
       "      <th></th>\n",
       "      <th>Age</th>\n",
       "      <th>Gender</th>\n",
       "      <th>Sleep duration</th>\n",
       "      <th>Sleep efficiency</th>\n",
       "      <th>Caffeine consumption</th>\n",
       "      <th>Alcohol consumption</th>\n",
       "      <th>Smoking status</th>\n",
       "      <th>Exercise frequency</th>\n",
       "    </tr>\n",
       "  </thead>\n",
       "  <tbody>\n",
       "    <tr>\n",
       "      <th>0</th>\n",
       "      <td>65</td>\n",
       "      <td>Female</td>\n",
       "      <td>6.0</td>\n",
       "      <td>0.88</td>\n",
       "      <td>0.0</td>\n",
       "      <td>0.0</td>\n",
       "      <td>Yes</td>\n",
       "      <td>3.0</td>\n",
       "    </tr>\n",
       "    <tr>\n",
       "      <th>1</th>\n",
       "      <td>69</td>\n",
       "      <td>Male</td>\n",
       "      <td>7.0</td>\n",
       "      <td>0.66</td>\n",
       "      <td>0.0</td>\n",
       "      <td>3.0</td>\n",
       "      <td>Yes</td>\n",
       "      <td>3.0</td>\n",
       "    </tr>\n",
       "    <tr>\n",
       "      <th>2</th>\n",
       "      <td>40</td>\n",
       "      <td>Female</td>\n",
       "      <td>8.0</td>\n",
       "      <td>0.89</td>\n",
       "      <td>0.0</td>\n",
       "      <td>0.0</td>\n",
       "      <td>No</td>\n",
       "      <td>3.0</td>\n",
       "    </tr>\n",
       "    <tr>\n",
       "      <th>3</th>\n",
       "      <td>40</td>\n",
       "      <td>Female</td>\n",
       "      <td>6.0</td>\n",
       "      <td>0.51</td>\n",
       "      <td>50.0</td>\n",
       "      <td>5.0</td>\n",
       "      <td>Yes</td>\n",
       "      <td>1.0</td>\n",
       "    </tr>\n",
       "    <tr>\n",
       "      <th>4</th>\n",
       "      <td>57</td>\n",
       "      <td>Male</td>\n",
       "      <td>8.0</td>\n",
       "      <td>0.76</td>\n",
       "      <td>0.0</td>\n",
       "      <td>3.0</td>\n",
       "      <td>No</td>\n",
       "      <td>3.0</td>\n",
       "    </tr>\n",
       "    <tr>\n",
       "      <th>...</th>\n",
       "      <td>...</td>\n",
       "      <td>...</td>\n",
       "      <td>...</td>\n",
       "      <td>...</td>\n",
       "      <td>...</td>\n",
       "      <td>...</td>\n",
       "      <td>...</td>\n",
       "      <td>...</td>\n",
       "    </tr>\n",
       "    <tr>\n",
       "      <th>445</th>\n",
       "      <td>30</td>\n",
       "      <td>Female</td>\n",
       "      <td>7.5</td>\n",
       "      <td>0.53</td>\n",
       "      <td>50.0</td>\n",
       "      <td>2.0</td>\n",
       "      <td>Yes</td>\n",
       "      <td>1.0</td>\n",
       "    </tr>\n",
       "    <tr>\n",
       "      <th>447</th>\n",
       "      <td>27</td>\n",
       "      <td>Female</td>\n",
       "      <td>7.5</td>\n",
       "      <td>0.91</td>\n",
       "      <td>0.0</td>\n",
       "      <td>0.0</td>\n",
       "      <td>No</td>\n",
       "      <td>5.0</td>\n",
       "    </tr>\n",
       "    <tr>\n",
       "      <th>448</th>\n",
       "      <td>52</td>\n",
       "      <td>Male</td>\n",
       "      <td>6.0</td>\n",
       "      <td>0.74</td>\n",
       "      <td>25.0</td>\n",
       "      <td>0.0</td>\n",
       "      <td>No</td>\n",
       "      <td>3.0</td>\n",
       "    </tr>\n",
       "    <tr>\n",
       "      <th>450</th>\n",
       "      <td>45</td>\n",
       "      <td>Male</td>\n",
       "      <td>7.0</td>\n",
       "      <td>0.76</td>\n",
       "      <td>0.0</td>\n",
       "      <td>0.0</td>\n",
       "      <td>No</td>\n",
       "      <td>3.0</td>\n",
       "    </tr>\n",
       "    <tr>\n",
       "      <th>451</th>\n",
       "      <td>18</td>\n",
       "      <td>Male</td>\n",
       "      <td>7.5</td>\n",
       "      <td>0.63</td>\n",
       "      <td>50.0</td>\n",
       "      <td>1.0</td>\n",
       "      <td>No</td>\n",
       "      <td>1.0</td>\n",
       "    </tr>\n",
       "  </tbody>\n",
       "</table>\n",
       "<p>386 rows × 8 columns</p>\n",
       "</div>"
      ],
      "text/plain": [
       "     Age  Gender  Sleep duration  Sleep efficiency  Caffeine consumption  \\\n",
       "0     65  Female             6.0              0.88                   0.0   \n",
       "1     69    Male             7.0              0.66                   0.0   \n",
       "2     40  Female             8.0              0.89                   0.0   \n",
       "3     40  Female             6.0              0.51                  50.0   \n",
       "4     57    Male             8.0              0.76                   0.0   \n",
       "..   ...     ...             ...               ...                   ...   \n",
       "445   30  Female             7.5              0.53                  50.0   \n",
       "447   27  Female             7.5              0.91                   0.0   \n",
       "448   52    Male             6.0              0.74                  25.0   \n",
       "450   45    Male             7.0              0.76                   0.0   \n",
       "451   18    Male             7.5              0.63                  50.0   \n",
       "\n",
       "     Alcohol consumption Smoking status  Exercise frequency  \n",
       "0                    0.0            Yes                 3.0  \n",
       "1                    3.0            Yes                 3.0  \n",
       "2                    0.0             No                 3.0  \n",
       "3                    5.0            Yes                 1.0  \n",
       "4                    3.0             No                 3.0  \n",
       "..                   ...            ...                 ...  \n",
       "445                  2.0            Yes                 1.0  \n",
       "447                  0.0             No                 5.0  \n",
       "448                  0.0             No                 3.0  \n",
       "450                  0.0             No                 3.0  \n",
       "451                  1.0             No                 1.0  \n",
       "\n",
       "[386 rows x 8 columns]"
      ]
     },
     "execution_count": 8,
     "metadata": {},
     "output_type": "execute_result"
    }
   ],
   "source": [
    "droplist = [\"ID\", \"Bedtime\", \"Wakeup time\", \"REM sleep percentage\", \"Deep sleep percentage\", \"Light sleep percentage\", \"Awakenings\"]\n",
    "NewSleep.drop(droplist, axis='columns')\n"
   ]
  },
  {
   "cell_type": "code",
   "execution_count": 9,
   "metadata": {},
   "outputs": [
    {
     "name": "stdout",
     "output_type": "stream",
     "text": [
      "Average sleep time for females:\n"
     ]
    },
    {
     "data": {
      "text/plain": [
       "7.504464285714286"
      ]
     },
     "execution_count": 9,
     "metadata": {},
     "output_type": "execute_result"
    }
   ],
   "source": [
    "print(\"Average sleep time for females:\")\n",
    "df.loc[df['Gender'] == 'Female', 'Sleep duration'].mean()\n",
    "\n"
   ]
  },
  {
   "cell_type": "code",
   "execution_count": 10,
   "metadata": {},
   "outputs": [
    {
     "name": "stdout",
     "output_type": "stream",
     "text": [
      "Average sleep efficiency for females:\n"
     ]
    },
    {
     "data": {
      "text/plain": [
       "0.787544642857143"
      ]
     },
     "execution_count": 10,
     "metadata": {},
     "output_type": "execute_result"
    }
   ],
   "source": [
    "print(\"Average sleep efficiency for females:\")\n",
    "df.loc[df['Gender'] == 'Female', 'Sleep efficiency'].mean()"
   ]
  },
  {
   "cell_type": "code",
   "execution_count": 11,
   "metadata": {},
   "outputs": [
    {
     "name": "stdout",
     "output_type": "stream",
     "text": [
      "Average sleep time for males:\n"
     ]
    },
    {
     "data": {
      "text/plain": [
       "7.427631578947368"
      ]
     },
     "execution_count": 11,
     "metadata": {},
     "output_type": "execute_result"
    }
   ],
   "source": [
    "print(\"Average sleep time for males:\")\n",
    "df.loc[df['Gender'] == 'Male', 'Sleep duration'].mean()"
   ]
  },
  {
   "cell_type": "code",
   "execution_count": 12,
   "metadata": {},
   "outputs": [
    {
     "name": "stdout",
     "output_type": "stream",
     "text": [
      "Average sleep efficiency for males:\n"
     ]
    },
    {
     "data": {
      "text/plain": [
       "0.7902631578947368"
      ]
     },
     "execution_count": 12,
     "metadata": {},
     "output_type": "execute_result"
    }
   ],
   "source": [
    "print(\"Average sleep efficiency for males:\")\n",
    "df.loc[df['Gender'] == 'Male', 'Sleep efficiency'].mean()"
   ]
  },
  {
   "cell_type": "code",
   "execution_count": 13,
   "metadata": {},
   "outputs": [
    {
     "name": "stdout",
     "output_type": "stream",
     "text": [
      "Average sleep time for smokers:\n"
     ]
    },
    {
     "data": {
      "text/plain": [
       "7.503105590062112"
      ]
     },
     "execution_count": 13,
     "metadata": {},
     "output_type": "execute_result"
    }
   ],
   "source": [
    "print(\"Average sleep time for smokers:\")\n",
    "df.loc[df['Smoking status'] == 'Yes', 'Sleep duration'].mean()"
   ]
  },
  {
   "cell_type": "code",
   "execution_count": 14,
   "metadata": {},
   "outputs": [
    {
     "name": "stdout",
     "output_type": "stream",
     "text": [
      "Average sleep efficiency for smokers:\n"
     ]
    },
    {
     "data": {
      "text/plain": [
       "0.728695652173913"
      ]
     },
     "execution_count": 14,
     "metadata": {},
     "output_type": "execute_result"
    }
   ],
   "source": [
    "print(\"Average sleep efficiency for smokers:\")\n",
    "df.loc[df['Smoking status'] == 'Yes', 'Sleep efficiency'].mean()"
   ]
  },
  {
   "cell_type": "code",
   "execution_count": 15,
   "metadata": {},
   "outputs": [
    {
     "name": "stdout",
     "output_type": "stream",
     "text": [
      "Average sleep efficiency for non-smokers:\n"
     ]
    },
    {
     "data": {
      "text/plain": [
       "0.822233676975945"
      ]
     },
     "execution_count": 15,
     "metadata": {},
     "output_type": "execute_result"
    }
   ],
   "source": [
    "print(\"Average sleep efficiency for non-smokers:\")\n",
    "df.loc[df['Smoking status'] == 'No', 'Sleep efficiency'].mean()"
   ]
  },
  {
   "cell_type": "code",
   "execution_count": 19,
   "metadata": {},
   "outputs": [
    {
     "name": "stdout",
     "output_type": "stream",
     "text": [
      "[[65 'Female' 0.0 0.0 'Yes' 3.0]\n",
      " [69 'Male' 0.0 3.0 'Yes' 3.0]\n",
      " [40 'Female' 0.0 0.0 'No' 3.0]\n",
      " ...\n",
      " [52 'Male' 25.0 0.0 'No' 3.0]\n",
      " [45 'Male' 0.0 0.0 'No' 3.0]\n",
      " [18 'Male' 50.0 1.0 'No' 1.0]]\n",
      "[ 6.   7.   8.   6.   8.   6.  10.   6.   9.   8.   7.5  9.   8.5  8.5\n",
      "  7.5  7.   7.5  9.   7.5  8.   8.   6.   7.   9.   7.   7.   8.   7.\n",
      "  7.5  7.   7.   7.5  7.   6.   6.  10.   7.5  8.   7.   8.   7.5  8.\n",
      "  7.   7.   7.5  8.5  8.5  7.5  9.   8.   7.   7.5  7.   8.   7.   7.5\n",
      "  7.   6.   7.5  7.   6.   7.5  7.   7.   9.   7.   7.5  8.5  7.5  7.5\n",
      "  8.   6.   7.   7.   7.5  7.5  5.   8.   7.   7.   7.5  7.   7.   7.5\n",
      "  9.   8.   8.   8.5  8.   6.   6.   8.   7.   8.5  8.   7.5  5.   7.\n",
      "  8.   6.   7.   8.   8.   7.   7.   6.   8.   7.   7.   8.   7.   7.\n",
      "  9.   8.   8.   7.5  8.   7.   7.   9.   6.   7.   7.   7.   8.   8.\n",
      "  8.5  7.   7.5  7.5  7.5  7.5  7.5  7.   8.5  7.   7.5  7.   7.   7.\n",
      "  7.   7.   7.5  7.5  8.   6.   8.   7.5  7.   8.   6.   7.5  7.   7.5\n",
      "  8.   7.5  8.   7.   7.5  8.   7.   8.   7.   8.   6.   5.   7.   7.\n",
      "  8.   6.   7.   6.   7.   7.   8.   9.   7.   7.   7.5  5.   7.5  6.\n",
      "  7.5  7.   7.   8.5  8.   8.5  6.   8.   7.5  7.   8.   7.   7.5  8.\n",
      "  5.   8.   9.   7.   7.5  7.5  8.5  8.   7.   8.5  8.   7.   8.5  8.5\n",
      "  8.   7.5  7.   8.5  7.   6.   7.   7.   7.   8.   8.   7.5  7.   7.\n",
      "  9.   7.   7.5  7.   8.   8.5  7.   7.   9.   7.   7.   7.   8.   8.\n",
      "  8.   7.   7.5  7.5  7.   8.5  7.   6.   8.   7.   8.   7.5  6.   7.\n",
      "  7.   8.   7.   8.   8.5  8.   7.   8.5  7.  10.   5.   6.   7.   7.5\n",
      " 10.   7.   9.   7.   7.   7.5  7.5  8.   7.   7.   7.5  7.5  7.   7.5\n",
      "  8.   7.5  5.5  8.   9.   7.5  8.5 10.  10.   5.5  7.   8.   8.   7.\n",
      "  9.   7.   7.   8.   7.   7.5  7.   7.5  7.5  7.   8.   9.   7.   9.\n",
      "  9.   6.   7.5 10.   8.   7.   5.   7.5  6.   7.   7.   8.   8.   7.5\n",
      "  9.   8.   8.   7.   7.   7.   7.   7.5  9.   7.   8.   7.   7.   8.\n",
      "  8.   5.   7.   8.   7.   8.   7.   7.5  8.   7.5  8.   8.   7.   8.\n",
      "  8.   7.   7.   7.   8.5  8.   7.   7.   7.   9.   8.5  7.   7.   7.5\n",
      "  8.   6.   8.   8.   7.5  6.   7.   8.   7.5  7.   8.   8.   6.   7.5\n",
      "  9.   7.5  7.5  7.5  7.5  6.   7.   7.5]\n"
     ]
    }
   ],
   "source": [
    "\n",
    "\n",
    "#df.loc[df[\"Sleep duration\"] == 8., \"Sleep duration\"] = 1\n",
    "Sleep2 = NewSleep.dropna(axis = 0, how ='any')\n",
    "Sleep = Sleep2.drop(['ID', 'Bedtime', 'Wakeup time', 'Awakenings', 'Sleep efficiency', 'REM sleep percentage', 'Deep sleep percentage', 'Light sleep percentage'], axis = 1)\n",
    "Sleep.head()\n",
    "x = Sleep.drop(['Sleep duration'], axis = 1).values\n",
    "y = Sleep['Sleep duration'].values\n",
    "\n",
    "\n",
    "df.loc[df[\"Gender\"] == \"Male\", \"Gender\"] = 0\n",
    "df.loc[df[\"Gender\"] == \"Female\", \"Gender\"] = 1\n",
    "df.loc[df[\"Smoking status\"] == \"Yes\", \"Smoking status\"] = 1\n",
    "df.loc[df[\"Smoking status\"] == \"No\", \"Smoking status\"] = 0\n",
    "df.loc[df[\"Sleep duration\"] < 8.0, \"Sleep duration\"] = 0\n",
    "df.loc[df[\"Sleep duration\"] >= 8.0, \"Sleep duration\"] = 1\n",
    "\n",
    "print(x)\n",
    "print(y)\n",
    "\n",
    "\n",
    "# from sklearn.model_selection import train_test_split\n",
    "# x_train, x_test, y_train, y_test = train_test_split(x, y, test_size=0.30, train_size=0.70)\n",
    "# print(len(x_train))\n",
    "# print(len(x_test))\n",
    "\n",
    "\n",
    "\n",
    "\n",
    "\n",
    "\n",
    "\n",
    "# from sklearn import tree\n",
    "# from sklearn import metrics\n",
    "\n",
    "# dtc = tree.DecisionTreeClassifier(criterion ='gini', random_state = 1)\n",
    "# dtc = dtc.fit(x_train, y_train)\n",
    "\n",
    "# y_pred_dtc = dtc.predict(x_test)\n",
    "\n",
    "# print(\"Accuracy:\",metrics.accuracy_score(y_test, y_pred_dtc))\n",
    "# import matplotlib.pyplot as plt\n",
    "\n",
    "# plt.figure(figsize = (20, 20))\n",
    "# tree.plot_tree(dtc, filled = 'true', fontsize = 9)\n",
    "# from sklearn import ensemble\n",
    "\n",
    "# rfc = ensemble.RandomForestClassifier()\n",
    "# rfc = rfc.fit(x_train, y_train)\n",
    "\n",
    "# y_pred_rfc = rfc.predict(x_test)\n",
    "\n",
    "# print(\"Accuracy:\",metrics.accuracy_score(y_test, y_pred_rfc))\n"
   ]
  }
 ],
 "metadata": {
  "kernelspec": {
   "display_name": "Python 3",
   "language": "python",
   "name": "python3"
  },
  "language_info": {
   "codemirror_mode": {
    "name": "ipython",
    "version": 3
   },
   "file_extension": ".py",
   "mimetype": "text/x-python",
   "name": "python",
   "nbconvert_exporter": "python",
   "pygments_lexer": "ipython3",
   "version": "3.10.10"
  },
  "orig_nbformat": 4,
  "vscode": {
   "interpreter": {
    "hash": "6325e16c52925b21ac558e8f60d6923842cef51c6eaf41446f5a493ef810d857"
   }
  }
 },
 "nbformat": 4,
 "nbformat_minor": 2
}
